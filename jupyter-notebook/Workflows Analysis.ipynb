{
 "cells": [
  {
   "cell_type": "code",
   "execution_count": null,
   "id": "yellow-vegetation",
   "metadata": {},
   "outputs": [],
   "source": [
    "import pandas as pd\n",
    "import numpy as np\n",
    "import matplotlib.pyplot as plt\n",
    "\n",
    "def read_and_parse(input_file):\n",
    "    data = pd.read_csv(input_file)\n",
    "    \n",
    "#     Exclude the last events, as they are not interesting at all\n",
    "    data = data[data[\"dataPullType\"] != \"none\"]\n",
    "    \n",
    "#     Calculate the data and control time\n",
    "    data['controlTime'] = data['TotalDuration'] - data['DataPullDuration'] - data['DataPushDuration'] - data['ComputeDuration']\n",
    "    data['dataTime'] = data['DataPullDuration'] + data['DataPushDuration']\n",
    "    \n",
    "#     Calculate the trigger step network duration (for Connection Pooling experiment)\n",
    "    data['triggerStepNetworkDuration'] = data['TriggerStepClientDuration'] - data['TriggerStepServerDuration']\n",
    "\n",
    "#     \n",
    "    row_total = data[['dataTime', 'controlTime', 'ComputeDuration']].sum(axis=1)\n",
    "\n",
    "    data['dataPercentage'] = (data['dataTime'] / row_total) * 100\n",
    "    data['controlPercentage'] = (data['controlTime'] / row_total) * 100\n",
    "    data['computePercentage'] = (data['ComputeDuration'] / row_total) * 100\n",
    "    \n",
    "    \n",
    "    return data"
   ]
  },
  {
   "cell_type": "code",
   "execution_count": null,
   "id": "proprietary-grounds",
   "metadata": {},
   "outputs": [],
   "source": [
    "def avg_and_pct(pct, val_averages):\n",
    "    absolute = int(round(pct/100.*np.sum(val_averages)))\n",
    "    return \"{:.1f}%\\n({:d} ms)\".format(pct, absolute)\n",
    "\n",
    "def piechart(data, ds, ax):\n",
    "    val_averages = data[['dataTime', 'controlTime', 'ComputeDuration']].mean()\n",
    "    \n",
    "    labels = ['data', 'control', 'compute']\n",
    "    ax.pie(val_averages,  labels=labels, autopct=lambda pct: avg_and_pct(pct, val_averages),\n",
    "        shadow=True)\n",
    "    ax.set_title(\"Data size = {:s} bytes\".format(ds))\n",
    "\n",
    "\n",
    "def draw_data_loc_plots(local_averages_on, remote_averages_on, local_count_on, remote_count_on,\n",
    "                       local_averages_off, remote_averages_off, local_count_off, remote_count_off):\n",
    "    fig, axs = plt.subplots(2,2, figsize=(10,10))\n",
    "\n",
    "    axs[0,0].plot(data_counts, local_averages_on, marker='o', label='Local averages (with data locality)')\n",
    "    axs[0,0].plot(data_counts, local_averages_off, marker='o', label='Local averages (without data locality)')\n",
    "    axs[0,0].set_ylabel('ms')\n",
    "    axs[0,0].set_xlabel('# of parallel calls')\n",
    "    axs[0,0].legend()\n",
    "\n",
    "\n",
    "    axs[0,1].plot(data_counts, remote_averages_on, marker='o', label='Remote Averages (with data locality)')\n",
    "    axs[0,1].plot(data_counts, remote_averages_off, marker='o', label='Remote Averages (without data locality)')\n",
    "    axs[0,1].set_ylabel('ms')\n",
    "    axs[0,1].set_xlabel('# of parallel calls')\n",
    "    axs[0,1].legend()\n",
    "\n",
    "\n",
    "    axs[1,0].plot(data_counts, local_count_on, marker='o', label='# of local calls (with data locality)')\n",
    "    axs[1,0].plot(data_counts, local_count_off, marker='o', label='# of local calls (without data locality)')\n",
    "    axs[1,0].set_ylabel('count')\n",
    "    axs[1,0].set_xlabel('# of parallel calls')\n",
    "    axs[1,0].legend()\n",
    "\n",
    "\n",
    "    axs[1,1].plot(data_counts, remote_count_on, marker='o', label='# of remote calls (with data locality)')\n",
    "    axs[1,1].plot(data_counts, remote_count_off, marker='o', label='# of remote calls (without data locality)')\n",
    "    axs[1,1].set_ylabel('count')\n",
    "    axs[1,1].set_xlabel('# of parallel calls')\n",
    "    axs[1,1].legend()\n",
    "\n",
    "    fig.suptitle(\"Data Locality\")\n",
    "    \n",
    "def extract_local_remote_distr(data):\n",
    "    \n",
    "    grouped= data.groupby(\"dataPullType\")\n",
    "    counts = grouped[\"tId\"].count()\n",
    "    averages = grouped[\"dataTime\"].mean()\n",
    "    \n",
    "    local_count = counts[\"local\"]\n",
    "    remote_count = counts[\"remote\"]\n",
    "\n",
    "    local_avg = averages[\"local\"]\n",
    "    remote_avg = averages[\"remote\"]\n",
    "\n",
    "    return (local_count, remote_count, local_avg, remote_avg)\n"
   ]
  },
  {
   "cell_type": "code",
   "execution_count": null,
   "id": "functional-hunter",
   "metadata": {},
   "outputs": [],
   "source": [
    "import os\n",
    "\n",
    "# Switch directories to the experiment runner output\n",
    "# os.chdir('/home/alin/projects/MSc-workflows/dotnet/MSc-Workflows/experiments-runner')"
   ]
  },
  {
   "cell_type": "code",
   "execution_count": null,
   "id": "inner-london",
   "metadata": {},
   "outputs": [],
   "source": [
    "# Visualization 2 and 5. Piecharts and averages for each data size\n",
    "\n",
    "# For each data size, read up a file which should contain the data I need based on the experiment runner.\n",
    "\n",
    "# TODO need to do the all-up-OFF as well\n",
    "# Need to do it for the other data sizes as well\n",
    "\n",
    "#     Create subplots for each case: 3 data sizes, on/off\n",
    "fig, axs = plt.subplots(2,3, figsize=(10,20))\n",
    "\n",
    "fig.suptitle(\"Time distribution for multiple data sizes\")\n",
    "    \n",
    "data_sizes = [1048576, 10485760, 104857600]\n",
    "for i in range(3):\n",
    "    d = data_sizes[i]\n",
    "    input_file_on = \"all-up-on-d{:d}.csv\".format(d)\n",
    "    input_file_off = \"all-up-off-d{:d}.csv\".format(d)\n",
    "    data_on = read_and_parse(input_file_on)\n",
    "    data_off = read_and_parse(input_file_off)\n",
    "    \n",
    "    piechart(data_on, d, axs[0,i])\n",
    "    piechart(data_off, d, axs[1, i])\n"
   ]
  },
  {
   "cell_type": "code",
   "execution_count": null,
   "id": "circular-medicare",
   "metadata": {},
   "outputs": [],
   "source": [
    "# For Visualization 6 and 7, I need 2 experiments in the same chart.\n",
    "\n",
    "# x Axis = Request count\n",
    "# y Axis = Count of Local calls, count of Remote calls.\n",
    "\n",
    "# x Axis = Request count\n",
    "# y Axis = Avg latency of local calls, avg latency of remote calls - this might require 2 different graphs due to scale issues\n",
    "\n",
    "\n",
    "data_counts = [3, 6, 9, 12]\n",
    "local_averages_on = []\n",
    "remote_averages_on = []\n",
    "local_count_on = []\n",
    "remote_count_on = []\n",
    "\n",
    "local_averages_off = []\n",
    "remote_averages_off = []\n",
    "local_count_off = []\n",
    "remote_count_off = []\n",
    "\n",
    "for c in data_counts:\n",
    "    \n",
    "    input_file_on = \"data-loc-on-c{:d}.csv\".format(c)\n",
    "    input_file_off = \"data-loc-off-c{:d}.csv\".format(c)\n",
    "    \n",
    "    data_on = read_and_parse(input_file_on)\n",
    "    data_off = read_and_parse(input_file_off)\n",
    "    \n",
    "    (local_count, remote_count, local_avg, remote_avg)= extract_local_remote_distr(data_on)\n",
    "    \n",
    "    local_count_on.append(local_count)\n",
    "    remote_count_on.append(remote_count)\n",
    "    local_averages_on.append(local_avg)\n",
    "    remote_avergates_on.append(remote_avg)\n",
    "    \n",
    "    \n",
    "    (local_count, remote_count, local_avg, remote_avg)= extract_local_remote_distr(data_off)\n",
    "    \n",
    "    local_count_off.append(local_count)\n",
    "    remote_count_off.append(remote_count)\n",
    "    local_averages_off.append(local_avg)\n",
    "    remote_avergates_off.append(remote_avg)\n",
    "    \n",
    "    draw_data_loc_plots(local_averages_on, remote_averages_on, local_count_on, remote_count_on,\n",
    "                       local_averages_off, remote_averages_off, local_count_off, remote_count_off)"
   ]
  },
  {
   "cell_type": "code",
   "execution_count": 104,
   "id": "caring-swing",
   "metadata": {},
   "outputs": [
    {
     "data": {
      "text/plain": [
       "Text(0.5, 0.98, 'Network latency distribution')"
      ]
     },
     "execution_count": 104,
     "metadata": {},
     "output_type": "execute_result"
    },
    {
     "data": {
      "image/png": "[encoded data removed]",
      "text/plain": [
       "<Figure size 432x288 with 2 Axes>"
      ]
     },
     "metadata": {
      "needs_background": "light"
     },
     "output_type": "display_data"
    }
   ],
   "source": [
    "# For visualization 4, distribution of latencies on connection pooling. \n",
    "\n",
    "input_file_on = \"cp-on.csv\"\n",
    "input_file_off = \"cp-off.csv\"\n",
    "\n",
    "data_on = read_and_parse(input_file_on)\n",
    "data_off = read_and_parse(input_file_off)\n",
    "\n",
    "fig, axs = plt.subplots(1, 2, sharey=True, tight_layout=True)\n",
    "\n",
    "axs[0].hist(data_off[\"TriggerStepDuration\"], bins=20)\n",
    "axs[0].set_title(\"Connection pooling off\")\n",
    "axs[1].hist(data_on[\"TriggerStepDuration\"], bins=20)\n",
    "axs[1].set_title(\"connection pooling on\")\n",
    "\n",
    "fig.suptitle(\"Network latency distribution\")\n",
    "\n"
   ]
  },
  {
   "cell_type": "code",
   "execution_count": 120,
   "id": "entire-slovenia",
   "metadata": {},
   "outputs": [
    {
     "data": {
      "image/png": "[encoded data removed]",
      "text/plain": [
       "<Figure size 432x288 with 1 Axes>"
      ]
     },
     "metadata": {
      "needs_background": "light"
     },
     "output_type": "display_data"
    }
   ],
   "source": [
    "# For visualization 1, need to extract the # of calls from edge1 to -> edge1, edge2, Cloud, as the request count increases\n",
    "\n",
    "parallel_requests = [0, 3, 6, 9, 12]\n",
    "local_calls = [0]\n",
    "edge1_calls = [0]\n",
    "edge2_calls = [0]\n",
    "cloud1_calls = [0]\n",
    "\n",
    "def extract_zone_counts(data):\n",
    "    localCalls = data.groupby(\"dataPullType\")[\"tId\"].count()[\"local\"]\n",
    "    edge1Calls= len(data[data[\"ToZone\"] == \"edge1\"])\n",
    "    edge2Calls= len(data[data[\"ToZone\"] == \"edge2\"])\n",
    "    cloud1Calls= len(data[data[\"ToZone\"] == \"cloud1\"])\n",
    "    \n",
    "    return (localCalls, edge1Calls, edge2Calls, cloud1Calls)\n",
    "\n",
    "\n",
    "for i in range(4):\n",
    "    p = paraellel_requests[i + 1]\n",
    "    input_file=\"continuum-on-c{:d}.csv\".format(p)\n",
    "    data = read_and_parse(input_file)\n",
    "    \n",
    "    (localCalls, edge1Calls, edge2Calls, cloud1Calls) = extract_zone_counts(data)\n",
    "    local_calls.append(localCalls)\n",
    "    edge1_calls.append(edge1Calls)\n",
    "    edge2_calls.append(edge2Calls)\n",
    "    cloud1_calls.append(cloud1Calls)\n",
    "\n",
    "\n",
    "plt.plot(parallel_requests, local_calls, label='local', alpha=0.7, linestyle='dashed')\n",
    "plt.plot(parallel_requests, edge1_calls, label='edge1->edge1', alpha=0.7, linestyle='dotted')\n",
    "plt.plot(parallel_requests, edge2_calls, label='edge1->edge2', alpha=0.7, linestyle='dashdot')\n",
    "plt.plot(parallel_requests, cloud1_calls, label='edge1->cloud1', alpha=0.7, linestyle='solid')\n",
    "plt.gca().legend(loc='center left', bbox_to_anchor=(1, 0.5))\n",
    "plt.xlabel(\"# of parallel requests\")\n",
    "plt.ylabel(\"# of requests\")\n",
    "plt.show()\n",
    "    \n",
    "    \n",
    "    "
   ]
  },
  {
   "cell_type": "code",
   "execution_count": 125,
   "id": "assured-border",
   "metadata": {},
   "outputs": [
    {
     "data": {
      "image/png": "[encoded data removed]",
      "text/plain": [
       "<Figure size 432x288 with 1 Axes>"
      ]
     },
     "metadata": {
      "needs_background": "light"
     },
     "output_type": "display_data"
    }
   ],
   "source": [
    "# For visualization 3,  Hard linking on-off I need \n",
    "data_sizes = [1024, 1048576, 10485760, 104857600]\n",
    "\n",
    "on = [100, 105, 110, 104]\n",
    "off = [100, 150, 200, 300]\n",
    "\n",
    "# for d in data_sizes:\n",
    "#     input_file_on = \"hl-on-d{:d}.csv\".format(d)\n",
    "#     input_file_off = \"hl-off-d{:d}.csv\".format(d)\n",
    "#     data_on = read_and_parse(input_file_on)\n",
    "#     data_off = read_and_parse(input_file_off)\n",
    "    \n",
    "#     on.append(data_on[\"DataPullDuration\"].mean())\n",
    "#     off.append(data_off[\"DataPullDuration\"].mean())\n",
    "    \n",
    "plt.plot(data_sizes, on, label='Hard Linking', alpha=0.7)\n",
    "plt.plot(data_sizes, off, label='Copying', alpha=0.7)\n",
    "plt.legend()\n",
    "plt.xscale('log')\n",
    "plt.xlabel(\"Data Size (bytes)\")\n",
    "plt.ylabel(\"Time spent (ms)\")\n",
    "plt.show()\n",
    "    "
   ]
  },
  {
   "cell_type": "code",
   "execution_count": 121,
   "id": "straight-string",
   "metadata": {},
   "outputs": [
    {
     "data": {
      "text/plain": [
       "162.6"
      ]
     },
     "execution_count": 121,
     "metadata": {},
     "output_type": "execute_result"
    }
   ],
   "source": [
    "data[\"DataPullDuration\"].mean()"
   ]
  }
 ],
 "metadata": {
  "kernelspec": {
   "display_name": "Python 3",
   "language": "python",
   "name": "python3"
  },
  "language_info": {
   "codemirror_mode": {
    "name": "ipython",
    "version": 3
   },
   "file_extension": ".py",
   "mimetype": "text/x-python",
   "name": "python",
   "nbconvert_exporter": "python",
   "pygments_lexer": "ipython3",
   "version": "3.8.5"
  }
 },
 "nbformat": 4,
 "nbformat_minor": 5
}
